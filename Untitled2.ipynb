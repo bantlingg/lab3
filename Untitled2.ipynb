{
 "cells": [
  {
   "cell_type": "code",
   "execution_count": null,
   "id": "6b401d1c",
   "metadata": {},
   "outputs": [],
   "source": [
    "\n"
   ]
  },
  {
   "cell_type": "code",
   "execution_count": 1,
   "id": "988d45db",
   "metadata": {},
   "outputs": [
    {
     "name": "stderr",
     "output_type": "stream",
     "text": [
      "2023-11-21 15:05:16.724 INFO in 'deeppavlov.download'['download'] at line 138: Skipped http://files.deeppavlov.ai/deeppavlov_data/classifiers/insults_kaggle_torch_bert_v5.tar.gz download because of matching hashes\n",
      "2023-11-21 15:05:17.367 INFO in 'deeppavlov.download'['download'] at line 138: Skipped http://files.deeppavlov.ai/datasets/insults_data.tar.gz download because of matching hashes\n",
      "C:\\Users\\admin\\anaconda3\\envs\\yasosalmenyaebali\\lib\\site-packages\\tqdm\\auto.py:22: TqdmWarning: IProgress not found. Please update jupyter and ipywidgets. See https://ipywidgets.readthedocs.io/en/stable/user_install.html\n",
      "  from .autonotebook import tqdm as notebook_tqdm\n",
      "Some weights of the model checkpoint at bert-base-uncased were not used when initializing BertForSequenceClassification: ['cls.predictions.transform.LayerNorm.bias', 'cls.predictions.decoder.weight', 'cls.predictions.transform.dense.weight', 'cls.seq_relationship.weight', 'cls.seq_relationship.bias', 'cls.predictions.transform.LayerNorm.weight', 'cls.predictions.bias', 'cls.predictions.transform.dense.bias']\n",
      "- This IS expected if you are initializing BertForSequenceClassification from the checkpoint of a model trained on another task or with another architecture (e.g. initializing a BertForSequenceClassification model from a BertForPreTraining model).\n",
      "- This IS NOT expected if you are initializing BertForSequenceClassification from the checkpoint of a model that you expect to be exactly identical (initializing a BertForSequenceClassification model from a BertForSequenceClassification model).\n",
      "Some weights of BertForSequenceClassification were not initialized from the model checkpoint at bert-base-uncased and are newly initialized: ['classifier.bias', 'classifier.weight']\n",
      "You should probably TRAIN this model on a down-stream task to be able to use it for predictions and inference.\n",
      "2023-11-21 15:05:20.744 WARNING in 'deeppavlov.core.models.torch_model'['torch_model'] at line 96: Unable to place component TorchTransformersClassifierModel on GPU, since no CUDA GPUs are available. Using CPU.\n"
     ]
    }
   ],
   "source": [
    "from deeppavlov import build_model\n",
    "\n",
    "model = build_model('insults_kaggle_bert', download=True)"
   ]
  },
  {
   "cell_type": "code",
   "execution_count": 2,
   "id": "9e6a884b",
   "metadata": {},
   "outputs": [
    {
     "data": {
      "text/plain": [
       "['Insult', 'Not Insult']"
      ]
     },
     "execution_count": 2,
     "metadata": {},
     "output_type": "execute_result"
    }
   ],
   "source": [
    "model(['You are kind of stupid', 'You are a wonderful person!'])\n"
   ]
  },
  {
   "cell_type": "code",
   "execution_count": null,
   "id": "f743b177",
   "metadata": {},
   "outputs": [],
   "source": [
    "\n"
   ]
  },
  {
   "cell_type": "code",
   "execution_count": null,
   "id": "2731ab96",
   "metadata": {},
   "outputs": [],
   "source": [
    "\n"
   ]
  },
  {
   "cell_type": "code",
   "execution_count": null,
   "id": "227fd891",
   "metadata": {},
   "outputs": [],
   "source": []
  },
  {
   "cell_type": "code",
   "execution_count": null,
   "id": "84cb6e12",
   "metadata": {},
   "outputs": [],
   "source": []
  },
  {
   "cell_type": "code",
   "execution_count": null,
   "id": "847205a9",
   "metadata": {},
   "outputs": [],
   "source": [
    "\n"
   ]
  },
  {
   "cell_type": "code",
   "execution_count": null,
   "id": "737f92b6",
   "metadata": {},
   "outputs": [],
   "source": []
  },
  {
   "cell_type": "code",
   "execution_count": null,
   "id": "e6ca1797",
   "metadata": {},
   "outputs": [],
   "source": []
  },
  {
   "cell_type": "code",
   "execution_count": null,
   "id": "2ce9754a",
   "metadata": {},
   "outputs": [],
   "source": []
  },
  {
   "cell_type": "code",
   "execution_count": null,
   "id": "d70a48f9",
   "metadata": {},
   "outputs": [],
   "source": []
  },
  {
   "cell_type": "code",
   "execution_count": null,
   "id": "b0697b67",
   "metadata": {},
   "outputs": [],
   "source": []
  },
  {
   "cell_type": "code",
   "execution_count": null,
   "id": "6fa2d496",
   "metadata": {},
   "outputs": [],
   "source": [
    "\n"
   ]
  },
  {
   "cell_type": "code",
   "execution_count": null,
   "id": "918cb24b",
   "metadata": {},
   "outputs": [],
   "source": []
  },
  {
   "cell_type": "code",
   "execution_count": null,
   "id": "fc9d3034",
   "metadata": {},
   "outputs": [],
   "source": []
  },
  {
   "cell_type": "code",
   "execution_count": null,
   "id": "3fef8b9a",
   "metadata": {},
   "outputs": [],
   "source": []
  },
  {
   "cell_type": "code",
   "execution_count": null,
   "id": "a37c5bc1",
   "metadata": {},
   "outputs": [],
   "source": [
    "\n"
   ]
  },
  {
   "cell_type": "code",
   "execution_count": null,
   "id": "abe12de1",
   "metadata": {},
   "outputs": [],
   "source": []
  },
  {
   "cell_type": "code",
   "execution_count": null,
   "id": "4ece97c7",
   "metadata": {},
   "outputs": [],
   "source": []
  },
  {
   "cell_type": "code",
   "execution_count": 3,
   "id": "1a50782e",
   "metadata": {},
   "outputs": [
    {
     "name": "stderr",
     "output_type": "stream",
     "text": [
      "C:\\Users\\admin\\AppData\\Local\\Temp\\ipykernel_13748\\183929673.py:22: SettingWithCopyWarning: \n",
      "A value is trying to be set on a copy of a slice from a DataFrame.\n",
      "Try using .loc[row_indexer,col_indexer] = value instead\n",
      "\n",
      "See the caveats in the documentation: https://pandas.pydata.org/pandas-docs/stable/user_guide/indexing.html#returning-a-view-versus-a-copy\n",
      "  data['clean_text'] = data['text'].apply(cleanResume)\n",
      "C:\\Users\\admin\\AppData\\Local\\Temp\\ipykernel_13748\\183929673.py:25: SettingWithCopyWarning: \n",
      "A value is trying to be set on a copy of a slice from a DataFrame\n",
      "\n",
      "See the caveats in the documentation: https://pandas.pydata.org/pandas-docs/stable/user_guide/indexing.html#returning-a-view-versus-a-copy\n",
      "  data.dropna(subset=['clean_text'], inplace=True)\n"
     ]
    }
   ],
   "source": [
    "import re\n",
    "import pandas as pd\n",
    "\n",
    "from sklearn.feature_extraction.text import CountVectorizer\n",
    "from nltk.tokenize import word_tokenize\n",
    "from nltk.stem import WordNetLemmatizer\n",
    "\n",
    "# Функция для очистки текста резюме\n",
    "def cleanResume(resumeText):\n",
    "    resumeText = re.sub('[%s]' % re.escape(\"\"\"!\"#$%&'()*+,-./:;<=>?@[\\]^_`{|}~\"\"\"), ' ', resumeText)\n",
    "    resumeText = re.sub(r'[^\\x00-\\x7f]', r' ', resumeText)\n",
    "    resumeText = re.sub('\\s+', ' ', resumeText)\n",
    "    resumeText = re.sub(r'[0-9]+', '', resumeText)\n",
    "    return resumeText.lower()\n",
    "\n",
    "# Загрузка данных\n",
    "data1 = pd.read_csv('toxic_comments.csv')\n",
    "data =data1.head(50)\n",
    "tweets = data['text']\n",
    "\n",
    "# Применение очистки текста резюме к столбцу 'text'\n",
    "data['clean_text'] = data['text'].apply(cleanResume)\n",
    "\n",
    "# Удаление строк с пустыми значениями\n",
    "data.dropna(subset=['clean_text'], inplace=True)\n",
    "\n",
    "# Создание векторизатора CountVectorizer\n",
    "vectorizer = CountVectorizer()\n",
    "\n",
    "# Преобразование текстов в векторное представление\n",
    "vectorized_tweets = vectorizer.fit_transform(data['clean_text'])\n",
    "\n",
    "# Очистка и форматирование данных для передачи в модель\n",
    "formatted_tweets = data['clean_text'].tolist()\n",
    "\n",
    "\n",
    "\n"
   ]
  },
  {
   "cell_type": "code",
   "execution_count": 4,
   "id": "11eb1d00",
   "metadata": {
    "scrolled": true
   },
   "outputs": [
    {
     "data": {
      "text/html": [
       "<div>\n",
       "<style scoped>\n",
       "    .dataframe tbody tr th:only-of-type {\n",
       "        vertical-align: middle;\n",
       "    }\n",
       "\n",
       "    .dataframe tbody tr th {\n",
       "        vertical-align: top;\n",
       "    }\n",
       "\n",
       "    .dataframe thead th {\n",
       "        text-align: right;\n",
       "    }\n",
       "</style>\n",
       "<table border=\"1\" class=\"dataframe\">\n",
       "  <thead>\n",
       "    <tr style=\"text-align: right;\">\n",
       "      <th></th>\n",
       "      <th>Unnamed: 0</th>\n",
       "      <th>text</th>\n",
       "      <th>toxic</th>\n",
       "    </tr>\n",
       "  </thead>\n",
       "  <tbody>\n",
       "    <tr>\n",
       "      <th>0</th>\n",
       "      <td>0</td>\n",
       "      <td>Explanation\\nWhy the edits made under my usern...</td>\n",
       "      <td>0</td>\n",
       "    </tr>\n",
       "    <tr>\n",
       "      <th>1</th>\n",
       "      <td>1</td>\n",
       "      <td>D'aww! He matches this background colour I'm s...</td>\n",
       "      <td>0</td>\n",
       "    </tr>\n",
       "    <tr>\n",
       "      <th>2</th>\n",
       "      <td>2</td>\n",
       "      <td>Hey man, I'm really not trying to edit war. It...</td>\n",
       "      <td>0</td>\n",
       "    </tr>\n",
       "    <tr>\n",
       "      <th>3</th>\n",
       "      <td>3</td>\n",
       "      <td>\"\\nMore\\nI can't make any real suggestions on ...</td>\n",
       "      <td>0</td>\n",
       "    </tr>\n",
       "    <tr>\n",
       "      <th>4</th>\n",
       "      <td>4</td>\n",
       "      <td>You, sir, are my hero. Any chance you remember...</td>\n",
       "      <td>0</td>\n",
       "    </tr>\n",
       "    <tr>\n",
       "      <th>...</th>\n",
       "      <td>...</td>\n",
       "      <td>...</td>\n",
       "      <td>...</td>\n",
       "    </tr>\n",
       "    <tr>\n",
       "      <th>159566</th>\n",
       "      <td>159566</td>\n",
       "      <td>\":::::And for the second time of asking, when ...</td>\n",
       "      <td>0</td>\n",
       "    </tr>\n",
       "    <tr>\n",
       "      <th>159567</th>\n",
       "      <td>159567</td>\n",
       "      <td>You should be ashamed of yourself \\n\\nThat is ...</td>\n",
       "      <td>0</td>\n",
       "    </tr>\n",
       "    <tr>\n",
       "      <th>159568</th>\n",
       "      <td>159568</td>\n",
       "      <td>Spitzer \\n\\nUmm, theres no actual article for ...</td>\n",
       "      <td>0</td>\n",
       "    </tr>\n",
       "    <tr>\n",
       "      <th>159569</th>\n",
       "      <td>159569</td>\n",
       "      <td>And it looks like it was actually you who put ...</td>\n",
       "      <td>0</td>\n",
       "    </tr>\n",
       "    <tr>\n",
       "      <th>159570</th>\n",
       "      <td>159570</td>\n",
       "      <td>\"\\nAnd ... I really don't think you understand...</td>\n",
       "      <td>0</td>\n",
       "    </tr>\n",
       "  </tbody>\n",
       "</table>\n",
       "<p>159571 rows × 3 columns</p>\n",
       "</div>"
      ],
      "text/plain": [
       "        Unnamed: 0                                               text  toxic\n",
       "0                0  Explanation\\nWhy the edits made under my usern...      0\n",
       "1                1  D'aww! He matches this background colour I'm s...      0\n",
       "2                2  Hey man, I'm really not trying to edit war. It...      0\n",
       "3                3  \"\\nMore\\nI can't make any real suggestions on ...      0\n",
       "4                4  You, sir, are my hero. Any chance you remember...      0\n",
       "...            ...                                                ...    ...\n",
       "159566      159566  \":::::And for the second time of asking, when ...      0\n",
       "159567      159567  You should be ashamed of yourself \\n\\nThat is ...      0\n",
       "159568      159568  Spitzer \\n\\nUmm, theres no actual article for ...      0\n",
       "159569      159569  And it looks like it was actually you who put ...      0\n",
       "159570      159570  \"\\nAnd ... I really don't think you understand...      0\n",
       "\n",
       "[159571 rows x 3 columns]"
      ]
     },
     "execution_count": 4,
     "metadata": {},
     "output_type": "execute_result"
    }
   ],
   "source": [
    "data1"
   ]
  },
  {
   "cell_type": "code",
   "execution_count": 5,
   "id": "2b153c39",
   "metadata": {},
   "outputs": [
    {
     "name": "stdout",
     "output_type": "stream",
     "text": [
      "    Unnamed: 0                                               text  toxic  \\\n",
      "0            0  Explanation\\nWhy the edits made under my usern...      0   \n",
      "1            1  D'aww! He matches this background colour I'm s...      0   \n",
      "2            2  Hey man, I'm really not trying to edit war. It...      0   \n",
      "3            3  \"\\nMore\\nI can't make any real suggestions on ...      0   \n",
      "4            4  You, sir, are my hero. Any chance you remember...      0   \n",
      "5            5  \"\\n\\nCongratulations from me as well, use the ...      0   \n",
      "6            6       COCKSUCKER BEFORE YOU PISS AROUND ON MY WORK      1   \n",
      "7            7  Your vandalism to the Matt Shirvington article...      0   \n",
      "8            8  Sorry if the word 'nonsense' was offensive to ...      0   \n",
      "9            9  alignment on this subject and which are contra...      0   \n",
      "10          10  \"\\nFair use rationale for Image:Wonju.jpg\\n\\nT...      0   \n",
      "11          11  bbq \\n\\nbe a man and lets discuss it-maybe ove...      0   \n",
      "12          12  Hey... what is it..\\n@ | talk .\\nWhat is it......      1   \n",
      "13          13  Before you start throwing accusations and warn...      0   \n",
      "14          14  Oh, and the girl above started her arguments w...      0   \n",
      "15          15  \"\\n\\nJuelz Santanas Age\\n\\nIn 2002, Juelz Sant...      0   \n",
      "16          16  Bye! \\n\\nDon't look, come or think of comming ...      1   \n",
      "17          17   REDIRECT Talk:Voydan Pop Georgiev- Chernodrinski      0   \n",
      "18          18  The Mitsurugi point made no sense - why not ar...      0   \n",
      "19          19  Don't mean to bother you \\n\\nI see that you're...      0   \n",
      "20          20  \"\\n\\n Regarding your recent edits \\n\\nOnce aga...      0   \n",
      "21          21  \"\\nGood to know. About me, yeah, I'm studying ...      0   \n",
      "22          22  \"\\n\\n Snowflakes are NOT always symmetrical! \\...      0   \n",
      "23          23  \"\\n\\n The Signpost: 24 September 2012 \\n\\n Rea...      0   \n",
      "24          24  \"\\n\\nRe-considering 1st paragraph edit?\\nI don...      0   \n",
      "25          25  Radial symmetry \\n\\nSeveral now extinct lineag...      0   \n",
      "26          26  There's no need to apologize. A Wikipedia arti...      0   \n",
      "27          27  Yes, because the mother of the child in the ca...      0   \n",
      "28          28  \"\\nOk. But it will take a bit of work but I ca...      0   \n",
      "29          29  \"== A barnstar for you! ==\\n\\n  The Real Life ...      0   \n",
      "30          30  How could I post before the block expires?  Th...      0   \n",
      "31          31  Not sure about a heading of 'Fight for Freedom...      0   \n",
      "32          32  Praise \\n\\nlooked at this article about 6 mont...      0   \n",
      "33          33  I was able to post the above list so quickly b...      0   \n",
      "34          34  \"\\nWell, not \"\"before the process\"\" but \"\"befo...      0   \n",
      "35          35  \"\\n\\nNot at all, you are making a straw man ar...      0   \n",
      "36          36  \"\\n\\n \"\"Mainland Asia\"\" includes \"\"the lower b...      0   \n",
      "37          37  pretty much everyone from warren county/surrou...      0   \n",
      "38          38  Hi Explicit, can you block O Fenian for edit-w...      0   \n",
      "39          39  Notability of Rurika Kasuga\\nA tag has been pl...      0   \n",
      "40          40  \"\\n Sure, but the lead must briefly summarize ...      0   \n",
      "41          41  TFD \\n\\nI think we just eced. I think we respo...      0   \n",
      "42          42  You are gay or antisemmitian? \\n\\nArchangel WH...      1   \n",
      "43          43           FUCK YOUR FILTHY MOTHER IN THE ASS, DRY!      1   \n",
      "44          44  I'm Sorry \\n\\nI'm sorry I screwed around with ...      1   \n",
      "45          45  I don't believe the Lisak criticism present th...      0   \n",
      "46          46  You had a point, and it's now ammended with ap...      0   \n",
      "47          47  In other words, you're too lazy to actually po...      0   \n",
      "48          48  \"\\nAs for your claims of \"\"stalking\"\", that is...      0   \n",
      "49          49  \"::::Jmabel; in regards to predominant scholar...      0   \n",
      "\n",
      "                                           clean_text  \n",
      "0   explanation why the edits made under my userna...  \n",
      "1   d aww he matches this background colour i m se...  \n",
      "2   hey man i m really not trying to edit war it s...  \n",
      "3    more i can t make any real suggestions on imp...  \n",
      "4   you sir are my hero any chance you remember wh...  \n",
      "5    congratulations from me as well use the tools...  \n",
      "6        cocksucker before you piss around on my work  \n",
      "7   your vandalism to the matt shirvington article...  \n",
      "8   sorry if the word nonsense was offensive to yo...  \n",
      "9   alignment on this subject and which are contra...  \n",
      "10   fair use rationale for image wonju jpg thanks...  \n",
      "11  bbq be a man and lets discuss it maybe over th...  \n",
      "12  hey what is it talk what is it an exclusive gr...  \n",
      "13  before you start throwing accusations and warn...  \n",
      "14  oh and the girl above started her arguments wi...  \n",
      "15   juelz santanas age in  juelz santana was  yea...  \n",
      "16  bye don t look come or think of comming back t...  \n",
      "17    redirect talk voydan pop georgiev chernodrinski  \n",
      "18  the mitsurugi point made no sense why not argu...  \n",
      "19  don t mean to bother you i see that you re wri...  \n",
      "20   regarding your recent edits once again please...  \n",
      "21   good to know about me yeah i m studying now d...  \n",
      "22   snowflakes are not always symmetrical under g...  \n",
      "23   the signpost  september  read this signpost i...  \n",
      "24   re considering st paragraph edit i don t unde...  \n",
      "25  radial symmetry several now extinct lineages i...  \n",
      "26  there s no need to apologize a wikipedia artic...  \n",
      "27  yes because the mother of the child in the cas...  \n",
      "28   ok but it will take a bit of work but i can t...  \n",
      "29   a barnstar for you the real life barnstar let...  \n",
      "30  how could i post before the block expires the ...  \n",
      "31  not sure about a heading of fight for freedom ...  \n",
      "32  praise looked at this article about  months ag...  \n",
      "33  i was able to post the above list so quickly b...  \n",
      "34   well not before the process but before how we...  \n",
      "35   not at all you are making a straw man argumen...  \n",
      "36   mainland asia includes the lower basin of chi...  \n",
      "37  pretty much everyone from warren county surrou...  \n",
      "38  hi explicit can you block o fenian for edit wa...  \n",
      "39  notability of rurika kasuga a tag has been pla...  \n",
      "40   sure but the lead must briefly summarize arme...  \n",
      "41  tfd i think we just eced i think we responded ...  \n",
      "42  you are gay or antisemmitian archangel white t...  \n",
      "43            fuck your filthy mother in the ass dry   \n",
      "44  i m sorry i m sorry i screwed around with some...  \n",
      "45  i don t believe the lisak criticism present th...  \n",
      "46  you had a point and it s now ammended with app...  \n",
      "47  in other words you re too lazy to actually poi...  \n",
      "48   as for your claims of stalking that is absolu...  \n",
      "49   jmabel in regards to predominant scholary con...  \n"
     ]
    }
   ],
   "source": [
    "print(data)"
   ]
  },
  {
   "cell_type": "code",
   "execution_count": 6,
   "id": "32d808c8",
   "metadata": {},
   "outputs": [
    {
     "data": {
      "text/plain": [
       "['explanation why the edits made under my username hardcore metallica fan were reverted they weren t vandalisms just closure on some gas after i voted at new york dolls fac and please don t remove the template from the talk page since i m retired now    ',\n",
       " 'd aww he matches this background colour i m seemingly stuck with thanks talk   january   utc ',\n",
       " 'hey man i m really not trying to edit war it s just that this guy is constantly removing relevant information and talking to me through edits instead of my talk page he seems to care more about the formatting than the actual info ',\n",
       " ' more i can t make any real suggestions on improvement i wondered if the section statistics should be later on or a subsection of types of accidents i think the references may need tidying so that they are all in the exact same format ie date format etc i can do that later on if no one else does first if you have any preferences for formatting style on references or want to do it yourself please let me know there appears to be a backlog on articles for review so i guess there may be a delay until a reviewer turns up it s listed in the relevant form eg wikipedia good article nominations transport ',\n",
       " 'you sir are my hero any chance you remember what page that s on ',\n",
       " ' congratulations from me as well use the tools well talk ',\n",
       " 'cocksucker before you piss around on my work',\n",
       " 'your vandalism to the matt shirvington article has been reverted please don t do it again or you will be banned ',\n",
       " 'sorry if the word nonsense was offensive to you anyway i m not intending to write anything in the article wow they would jump on me for vandalism i m merely requesting that it be more encyclopedic so one can use it for school as a reference i have been to the selective breeding page but it s almost a stub it points to animal breeding which is a short messy article that gives you no info there must be someone around with expertise in eugenics    ',\n",
       " 'alignment on this subject and which are contrary to those of dulithgow',\n",
       " ' fair use rationale for image wonju jpg thanks for uploading image wonju jpg i notice the image page specifies that the image is being used under fair use but there is no explanation or rationale as to why its use in wikipedia articles constitutes fair use in addition to the boilerplate fair use template you must also write out on the image description page a specific explanation or rationale for why using this image in each article is consistent with fair use please go to the image description page and edit it to include a fair use rationale if you have uploaded other fair use media consider checking that you have specified the fair use rationale on those pages too you can find a list of image pages you have edited by clicking on the my contributions link it is located at the very top of any wikipedia page when you are logged in and then selecting image from the dropdown box note that any fair use images uploaded after  may  and lacking such an explanation will be deleted one week after they have been uploaded as described on criteria for speedy deletion if you have any questions please ask them at the media copyright questions page thank you talk contribs unspecified source for image wonju jpg thanks for uploading image wonju jpg i noticed that the file s description page currently doesn t specify who created the content so the copyright status is unclear if you did not create this file yourself then you will need to specify the owner of the copyright if you obtained it from a website then a link to the website from which it was taken together with a restatement of that website s terms of use of its content is usually sufficient information however if the copyright holder is different from the website s publisher then their copyright should also be acknowledged as well as adding the source please add a proper copyright licensing tag if the file doesn t have one already if you created took the picture audio or video then the tag can be used to release it under the gfdl if you believe the media meets the criteria at wikipedia fair use use a tag such as or one of the other tags listed at wikipedia image copyright tags fair use see wikipedia image copyright tags for the full list of copyright tags that you can use if you have uploaded other files consider checking that you have specified their source and tagged them too you can find a list of files you have uploaded by following this link unsourced and untagged images may be deleted one week after they have been tagged as described on criteria for speedy deletion if the image is copyrighted under a non free license per wikipedia fair use then the image will be deleted  hours after if you have any questions please ask them at the media copyright questions page thank you talk contribs ',\n",
       " 'bbq be a man and lets discuss it maybe over the phone ',\n",
       " 'hey what is it talk what is it an exclusive group of some wp talibans who are good at destroying self appointed purist who gang up any one who asks them questions abt their anti social and destructive non contribution at wp ask sityush to clean up his behavior than issue me nonsensical warnings ',\n",
       " 'before you start throwing accusations and warnings at me lets review the edit itself making ad hominem attacks isn t going to strengthen your argument it will merely make it look like you are abusing your power as an admin now the edit itself is relevant this is probably the single most talked about event int he news as of late his absence is notable since he is the only living ex president who did not attend that s certainly more notable than his dedicating an aircracft carrier i intend to revert this edit in hopes of attracting the attention of an admin that is willing to look at the issue itself and not throw accusations around quite so liberally perhaps if you achieve a level of civility where you can do this we can have a rational discussion on the topic and resolve the matter peacefully ',\n",
       " 'oh and the girl above started her arguments with me she stuck her nose where it doesn t belong i believe the argument was between me and yvesnimmo but like i said the situation was settled and i apologized thanks ',\n",
       " ' juelz santanas age in  juelz santana was  years old then came february th which makes juelz turn  making songs with the diplomats the third neff to be signed to cam s label under roc a fella in  he was  years old coming out with his own singles santana s town and down so yes he is born in  he really is how could he be older then lloyd banks and how could he be  when his birthday passed the homie neff is  years old   juelz death god forbid if your thinking about that equals  go to your caculator and stop changing his year of birth my god ',\n",
       " 'bye don t look come or think of comming back tosser ',\n",
       " 'redirect talk voydan pop georgiev chernodrinski',\n",
       " 'the mitsurugi point made no sense why not argue to include hindi on ryo sakazaki s page to include more information ',\n",
       " 'don t mean to bother you i see that you re writing something regarding removing anything posted here and if you do oh well but if not and you can acctually discuss this with me then even better i d like to ask you to take a closer look at the premature wrestling deaths catagory and the men listed in it surely these men belong together in some catagory is there anything that you think we can do with the catagory besides delting it ',\n",
       " ' regarding your recent edits once again please read wp filmplot before editing any more film articles your edits are simply not good with entirely too many unnecessary details and very bad writing please stop before you do further damage the  ',\n",
       " ' good to know about me yeah i m studying now deepu ',\n",
       " ' snowflakes are not always symmetrical under geometry it is stated that a snowflake always has six symmetric arms this assertion is simply not true according to kenneth libbrecht the rather unattractive irregular crystals are by far the most common variety http www its caltech edu atomic snowcrystals myths myths htm perfection someone really need to take a look at his site and get facts off of it because i still see a decent number of falsities on this page forgive me im new at this and dont want to edit anything ',\n",
       " ' the signpost  september  read this signpost in full single page unsubscribe ',\n",
       " ' re considering st paragraph edit i don t understand the reasons for s recent edit of this article not that i m sure that the data are necessarily wrong rather i m persuaded that the strategy of introducing academic honors in the first paragraph is an unhelpful approach to this specific subject i note that articles about other sitting justices have been similarly enhanced and i also believe those changes are no improvement in support of my view that this edit should be reverted i would invite anyone to re visit articles written about the following pairs of jurists a benjamin cardozo a learned hand b john marshall harlan b john marshall harlan ii the question becomes would the current version of the wikipedia article about any one of them or either pair be improved by academic credentials in the introductory paragraph i think not perhaps it helps to repeat a wry argument kathleen sullivan of stanford law makes when she suggests that some on the harvard law faculty wonder how antonin scalia avoided learning what others have managed to grasp about the processes of judging i would hope this anecdote gently illustrates the point less humorous but an even stronger argument is the one clarence thomas makes when he mentions wanting to return his law degree to yale at a minimum i m questioning this edit it deserves to be reconsidered ',\n",
       " 'radial symmetry several now extinct lineages included in the echinodermata were bilateral such as homostelea or even asymmetrical such as cothurnocystis stylophora ',\n",
       " 'there s no need to apologize a wikipedia article is made for reconciling knowledge about a subject from different sources and you ve done history studies and not archaeology studies i guess i could scan the page e mail it to you and then you could ask someone to translate the page ',\n",
       " 'yes because the mother of the child in the case against michael jackson was studied in here motives and reasonings and judged upon her character just as harshly as wacko jacko himself don t tell me to ignore it and incriminate myself i am going to continue refuting the bullshit that jayjg keeps throwing at me    jun  utc ',\n",
       " ' ok but it will take a bit of work but i can t quite picture it do you have an example i can base it on the duck ',\n",
       " ' a barnstar for you the real life barnstar lets us be the stars ',\n",
       " 'how could i post before the block expires the funny thing is you think i m being uncivil ',\n",
       " 'not sure about a heading of fight for freedom what will it contain ',\n",
       " 'praise looked at this article about  months ago much improved ',\n",
       " 'i was able to post the above list so quickly because i already had it in a text file in my hard drive i ve been meaning to get around to updating the sound list for some time now as far as generating interest i ve spent four years trying to drum up more interest in freely licensed full length classical music unfortunately my attempts failed i m still effectively the only one who does it the classical music wikiproject was not interested wikipedia talk wikiproject classical music archive  need help wikipedia talk wikiproject music archive  i could use some helpwikipedia talk wikiproject music archive  raulbot c and the music list so i really had given up trying to interest others the sound list was featured on digg a while back http digg com music wikipedia has free classical music downloads it got  diggs which is imo very impressive ',\n",
       " ' well not before the process but before how we do things with subpages his rfa is listed on noseptember s page and you can find it if you look september  i think i have my differences with el c to be sure but was surprised to see a block so i left a note t c ',\n",
       " ' not at all you are making a straw man argument here i never claimed o donohue had that position rather that practitioners and researchers in the field ignored the dsm position which is exactly what the quote says and also something o donohue agrees with again i was combating the notion that it was a absurd part to claim that pedophilia is a sexual orientation since many researchers hold this position it would be unfair to call it absurd the disorder part is divided in the field some argue that it is not a disorder at all some do at the end of the day it is a value judgment as cantor pointed out earlier in the thread not a scientific judgement if we choose to make this value judgment in the article it should be stated clearly and not pretend to have a scientific basis ',\n",
       " ' mainland asia includes the lower basin of china s yangtze river as well as korea but being specific is fine too i just found a citation for a more comprehensive dna study by hammer below rather than our generarizations and speculation so far citation for yayoi culture was brought to japan by migrants from korea who in turn trace their roots to southeast asia south china  dna study by hammer describes the yayoi migration from korea based on the o sry  genes and other genes with close lineage haplogroups o m and o m reiterates that the entire o haplogroup has been proposed to have a southeast asian origin their definition of southeast asia includes southern china then hypothesizes that the dispersals of neolithic farmers from southeast asia also brought haplogroup o lineages to korea and eventually to japan in the concluding paragraph it states we propose that the yayoi y chromosomes descend from prehistoric farmers that had their origins in southeastern asia perhaps going back to the origin of agriculture in this region hammer s dna study is based on a global sample consisted of   males from  asian populations including six populations sampled from across the japanese archipelago ',\n",
       " 'pretty much everyone from warren county surrounding regions was born at glens falls hospital myself included however i m not sure this qualifies anyone as being a glens falls native rachel ray is i believe actually from the town of lake luzerne the preceding unsigned comment was added by        august   utc ',\n",
       " 'hi explicit can you block o fenian for edit warring on the giant s causeway wp he has made several edits which can only be described as terrorism ',\n",
       " 'notability of rurika kasuga a tag has been placed on rurika kasuga requesting that it be speedily deleted from wikipedia this has been done because the article seems to be about a person group of people band club company or web content but it does not indicate how or why the subject is notable that is why an article about that subject should be included in wikipedia under the criteria for speedy deletion articles that do not assert notability may be deleted at any time please see the guidelines for what is generally accepted as notable and if you can indicate why the subject of this article is notable you may contest the tagging to do this add on the top of the page below the existing db tag and leave a note on the article s talk page explaining your position please do not remove the speedy deletion tag yourself but don t hesitate to add information to the article that would confirm its subject s notability under the guidelines for guidelines on specific types of articles you may want to check out our criteria for biographies for web sites for bands or for companies feel free to leave a note on my talk page if you have any questions about this ',\n",
       " ' sure but the lead must briefly summarize armenia s history i simply added what i found necessary if anyone thinks this or that sentence is redundant for the lead they are welcome to remove make edits talk ',\n",
       " 'tfd i think we just eced i think we responded to each other without seeing each others responses i added something in response to yours but don t know if you saw mine t c wp chicago wp four ',\n",
       " 'you are gay or antisemmitian archangel white tiger meow greetingshhh uh there are two ways why you do erased my comment about ww that holocaust was brutally slaying of jews and not gays gypsys slavs anyone  if you are anti semitian than shave your head bald and go to the skinhead meetings  if you doubt words of the bible that homosexuality is a deadly sin make a pentagram tatoo on your forehead go to the satanistic masses with your gay pals  first and last warning you fucking gay i won t appreciate if any more nazi shwain would write in my page i don t wish to talk to you anymore beware of the dark side ',\n",
       " 'fuck your filthy mother in the ass dry ',\n",
       " 'i m sorry i m sorry i screwed around with someones talk page it was very bad to do i know how having the templates on their talk page helps you assert your dominance over them i know i should bow down to the almighty administrators but then again i m going to go play outside with your mom    ',\n",
       " 'i don t believe the lisak criticism present there conforms with the npv rule lisak doesn t have a neutral point of view to begin with if an offer to polygraph or even concerned review of polygraph results shocks a complainant into thinking her lies have been uncovered the recantation is still perfectly valid if you know you are telling the truth you will argue with machine or investigator also part of kanin s research was a followup of the recanted story where possible to verify if any were false recantations in all followups the recanted version of events matched what the accused said happened arguing that lisak is a respected phd is baseless if kanin is a respected phd i agree that my edit wasn t as neutral as possible though so apologize for that still something must be done here ',\n",
       " 'you had a point and it s now ammended with appropriate encyclopedic notability significance ',\n",
       " 'in other words you re too lazy to actually point anything out until you change that approach the tag goes ',\n",
       " ' as for your claims of stalking that is absolute rubbish and serves only to aggravate the situation i have assumed good faith and good intentions on your part and have never suggested or seen reason to suggest that you might have some ulterior motive in mass adding links to one specific company s web page nor for that matter have i ever made any suggestion that this is an administrative matter or even mentioned such a role clearly as a party to this disagreement i would not do so at any rate as it would be a conflict of interest i would ask that you thus extend the same good faith toward me rather than making spurious and unfounded accusations chatspy ',\n",
       " ' jmabel in regards to predominant scholary consensus who is it that allegedly claims despite third way rhetoric fascism in power functioned rather consistently as a right wing force as far as i m aware owning numerous books on the subject that is not the scholary consensus at all the consensus developed by respected scholars of fascism who write in a manner which is not bias to any interest group such as roger griffin hamish mcdonald roger eatwell and zeev sternhell all recongise fascism as a third way as the references show the only dissenters i m aware of who seem to think fascism has absoutely no leftist connections and is merely a radical right system are street level socialists who want to put as much distance between the movements as possible this of course does not come from educated people in a position to write books for example even the foremost scholary expert on fascism and a former member of both the communist party and then socialist party of italy renzo de felice doesn t try to cover up its socialistic origins and third way status this is a man who has wrote a definitive seven volume piece on mussolini ']"
      ]
     },
     "execution_count": 6,
     "metadata": {},
     "output_type": "execute_result"
    }
   ],
   "source": [
    "formatted_tweets"
   ]
  },
  {
   "cell_type": "code",
   "execution_count": null,
   "id": "d596dcc4",
   "metadata": {
    "scrolled": true
   },
   "outputs": [],
   "source": []
  },
  {
   "cell_type": "code",
   "execution_count": null,
   "id": "2c9145be",
   "metadata": {},
   "outputs": [],
   "source": []
  },
  {
   "cell_type": "code",
   "execution_count": null,
   "id": "5d4610a7",
   "metadata": {},
   "outputs": [],
   "source": []
  },
  {
   "cell_type": "code",
   "execution_count": 7,
   "id": "9f76ce3f",
   "metadata": {},
   "outputs": [],
   "source": [
    "\n",
    "predictions = model(formatted_tweets)\n"
   ]
  },
  {
   "cell_type": "code",
   "execution_count": null,
   "id": "10671ad9",
   "metadata": {},
   "outputs": [],
   "source": []
  },
  {
   "cell_type": "code",
   "execution_count": 8,
   "id": "ac387274",
   "metadata": {},
   "outputs": [],
   "source": [
    "dataotvet = {\n",
    "    'tweets': tweets,\n",
    "    'otvet': predictions\n",
    "}\n"
   ]
  },
  {
   "cell_type": "code",
   "execution_count": null,
   "id": "0c3e16bb",
   "metadata": {},
   "outputs": [],
   "source": []
  },
  {
   "cell_type": "code",
   "execution_count": 9,
   "id": "ec172153",
   "metadata": {},
   "outputs": [],
   "source": [
    "df = pd.DataFrame(dataotvet)\n"
   ]
  },
  {
   "cell_type": "code",
   "execution_count": 10,
   "id": "82265f9c",
   "metadata": {},
   "outputs": [],
   "source": [
    "file_name = 'otvet.csv'\n",
    "df.to_csv(file_name, index=False)"
   ]
  },
  {
   "cell_type": "code",
   "execution_count": null,
   "id": "0e843ad7",
   "metadata": {},
   "outputs": [],
   "source": [
    "\n"
   ]
  },
  {
   "cell_type": "code",
   "execution_count": 11,
   "id": "22f9f0d7",
   "metadata": {},
   "outputs": [
    {
     "data": {
      "text/html": [
       "<div>\n",
       "<style scoped>\n",
       "    .dataframe tbody tr th:only-of-type {\n",
       "        vertical-align: middle;\n",
       "    }\n",
       "\n",
       "    .dataframe tbody tr th {\n",
       "        vertical-align: top;\n",
       "    }\n",
       "\n",
       "    .dataframe thead th {\n",
       "        text-align: right;\n",
       "    }\n",
       "</style>\n",
       "<table border=\"1\" class=\"dataframe\">\n",
       "  <thead>\n",
       "    <tr style=\"text-align: right;\">\n",
       "      <th></th>\n",
       "      <th>tweets</th>\n",
       "      <th>otvet</th>\n",
       "    </tr>\n",
       "  </thead>\n",
       "  <tbody>\n",
       "    <tr>\n",
       "      <th>45</th>\n",
       "      <td>I don't believe the Lisak criticism present th...</td>\n",
       "      <td>Not Insult</td>\n",
       "    </tr>\n",
       "    <tr>\n",
       "      <th>46</th>\n",
       "      <td>You had a point, and it's now ammended with ap...</td>\n",
       "      <td>Not Insult</td>\n",
       "    </tr>\n",
       "    <tr>\n",
       "      <th>47</th>\n",
       "      <td>In other words, you're too lazy to actually po...</td>\n",
       "      <td>Not Insult</td>\n",
       "    </tr>\n",
       "    <tr>\n",
       "      <th>48</th>\n",
       "      <td>\"\\nAs for your claims of \"\"stalking\"\", that is...</td>\n",
       "      <td>Not Insult</td>\n",
       "    </tr>\n",
       "    <tr>\n",
       "      <th>49</th>\n",
       "      <td>\"::::Jmabel; in regards to predominant scholar...</td>\n",
       "      <td>Not Insult</td>\n",
       "    </tr>\n",
       "  </tbody>\n",
       "</table>\n",
       "</div>"
      ],
      "text/plain": [
       "                                               tweets       otvet\n",
       "45  I don't believe the Lisak criticism present th...  Not Insult\n",
       "46  You had a point, and it's now ammended with ap...  Not Insult\n",
       "47  In other words, you're too lazy to actually po...  Not Insult\n",
       "48  \"\\nAs for your claims of \"\"stalking\"\", that is...  Not Insult\n",
       "49  \"::::Jmabel; in regards to predominant scholar...  Not Insult"
      ]
     },
     "execution_count": 11,
     "metadata": {},
     "output_type": "execute_result"
    }
   ],
   "source": [
    "df = pd.read_csv('otvet.csv')\n",
    "\n",
    "\n",
    "df.tail()"
   ]
  },
  {
   "cell_type": "code",
   "execution_count": 22,
   "id": "1e4acbce",
   "metadata": {},
   "outputs": [
    {
     "name": "stdout",
     "output_type": "stream",
     "text": [
      "                                               tweets       otvet\n",
      "0   Explanation\\nWhy the edits made under my usern...  Not Insult\n",
      "1   D'aww! He matches this background colour I'm s...  Not Insult\n",
      "2   Hey man, I'm really not trying to edit war. It...  Not Insult\n",
      "3   \"\\nMore\\nI can't make any real suggestions on ...  Not Insult\n",
      "4   You, sir, are my hero. Any chance you remember...  Not Insult\n",
      "5   \"\\n\\nCongratulations from me as well, use the ...  Not Insult\n",
      "6        COCKSUCKER BEFORE YOU PISS AROUND ON MY WORK      Insult\n",
      "7   Your vandalism to the Matt Shirvington article...      Insult\n",
      "8   Sorry if the word 'nonsense' was offensive to ...  Not Insult\n",
      "9   alignment on this subject and which are contra...  Not Insult\n",
      "10  \"\\nFair use rationale for Image:Wonju.jpg\\n\\nT...  Not Insult\n",
      "11  bbq \\n\\nbe a man and lets discuss it-maybe ove...  Not Insult\n",
      "12  Hey... what is it..\\n@ | talk .\\nWhat is it......  Not Insult\n",
      "13  Before you start throwing accusations and warn...  Not Insult\n",
      "14  Oh, and the girl above started her arguments w...  Not Insult\n",
      "15  \"\\n\\nJuelz Santanas Age\\n\\nIn 2002, Juelz Sant...  Not Insult\n",
      "16  Bye! \\n\\nDon't look, come or think of comming ...  Not Insult\n",
      "17   REDIRECT Talk:Voydan Pop Georgiev- Chernodrinski  Not Insult\n",
      "18  The Mitsurugi point made no sense - why not ar...  Not Insult\n",
      "19  Don't mean to bother you \\n\\nI see that you're...  Not Insult\n",
      "20  \"\\n\\n Regarding your recent edits \\n\\nOnce aga...  Not Insult\n",
      "21  \"\\nGood to know. About me, yeah, I'm studying ...  Not Insult\n",
      "22  \"\\n\\n Snowflakes are NOT always symmetrical! \\...  Not Insult\n",
      "23  \"\\n\\n The Signpost: 24 September 2012 \\n\\n Rea...  Not Insult\n",
      "24  \"\\n\\nRe-considering 1st paragraph edit?\\nI don...  Not Insult\n",
      "25  Radial symmetry \\n\\nSeveral now extinct lineag...  Not Insult\n",
      "26  There's no need to apologize. A Wikipedia arti...  Not Insult\n",
      "27  Yes, because the mother of the child in the ca...  Not Insult\n",
      "28  \"\\nOk. But it will take a bit of work but I ca...  Not Insult\n",
      "29  \"== A barnstar for you! ==\\n\\n  The Real Life ...  Not Insult\n",
      "30  How could I post before the block expires?  Th...  Not Insult\n",
      "31  Not sure about a heading of 'Fight for Freedom...  Not Insult\n",
      "32  Praise \\n\\nlooked at this article about 6 mont...  Not Insult\n",
      "33  I was able to post the above list so quickly b...  Not Insult\n",
      "34  \"\\nWell, not \"\"before the process\"\" but \"\"befo...  Not Insult\n",
      "35  \"\\n\\nNot at all, you are making a straw man ar...  Not Insult\n",
      "36  \"\\n\\n \"\"Mainland Asia\"\" includes \"\"the lower b...  Not Insult\n",
      "37  pretty much everyone from warren county/surrou...  Not Insult\n",
      "38  Hi Explicit, can you block O Fenian for edit-w...  Not Insult\n",
      "39  Notability of Rurika Kasuga\\nA tag has been pl...  Not Insult\n",
      "40  \"\\n Sure, but the lead must briefly summarize ...  Not Insult\n",
      "41  TFD \\n\\nI think we just eced. I think we respo...  Not Insult\n",
      "42  You are gay or antisemmitian? \\n\\nArchangel WH...      Insult\n",
      "43           FUCK YOUR FILTHY MOTHER IN THE ASS, DRY!      Insult\n",
      "44  I'm Sorry \\n\\nI'm sorry I screwed around with ...  Not Insult\n",
      "45  I don't believe the Lisak criticism present th...  Not Insult\n",
      "46  You had a point, and it's now ammended with ap...  Not Insult\n",
      "47  In other words, you're too lazy to actually po...  Not Insult\n",
      "48  \"\\nAs for your claims of \"\"stalking\"\", that is...  Not Insult\n",
      "49  \"::::Jmabel; in regards to predominant scholar...  Not Insult\n"
     ]
    }
   ],
   "source": [
    "df = pd.read_csv('otvet.csv')\n",
    "\n",
    "\n",
    "print(df)"
   ]
  },
  {
   "cell_type": "code",
   "execution_count": null,
   "id": "275a8b7d",
   "metadata": {},
   "outputs": [],
   "source": []
  }
 ],
 "metadata": {
  "kernelspec": {
   "display_name": "Python 3 (ipykernel)",
   "language": "python",
   "name": "python3"
  },
  "language_info": {
   "codemirror_mode": {
    "name": "ipython",
    "version": 3
   },
   "file_extension": ".py",
   "mimetype": "text/x-python",
   "name": "python",
   "nbconvert_exporter": "python",
   "pygments_lexer": "ipython3",
   "version": "3.10.13"
  }
 },
 "nbformat": 4,
 "nbformat_minor": 5
}
