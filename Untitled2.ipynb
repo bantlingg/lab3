{
 "cells": [
  {
   "cell_type": "code",
   "execution_count": 1,
   "id": "6b401d1c",
   "metadata": {},
   "outputs": [
    {
     "name": "stderr",
     "output_type": "stream",
     "text": [
      "2023-11-23 13:40:19.232 INFO in 'deeppavlov.download'['download'] at line 138: Skipped http://files.deeppavlov.ai/deeppavlov_data/classifiers/insults_kaggle_torch_bert_v5.tar.gz download because of matching hashes\n",
      "2023-11-23 13:40:19.867 INFO in 'deeppavlov.download'['download'] at line 138: Skipped http://files.deeppavlov.ai/datasets/insults_data.tar.gz download because of matching hashes\n",
      "C:\\Users\\admin\\anaconda3\\envs\\yasosalmenyaebali\\lib\\site-packages\\tqdm\\auto.py:22: TqdmWarning: IProgress not found. Please update jupyter and ipywidgets. See https://ipywidgets.readthedocs.io/en/stable/user_install.html\n",
      "  from .autonotebook import tqdm as notebook_tqdm\n",
      "Some weights of the model checkpoint at bert-base-uncased were not used when initializing BertForSequenceClassification: ['cls.predictions.transform.dense.weight', 'cls.seq_relationship.bias', 'cls.predictions.bias', 'cls.predictions.decoder.weight', 'cls.seq_relationship.weight', 'cls.predictions.transform.dense.bias', 'cls.predictions.transform.LayerNorm.weight', 'cls.predictions.transform.LayerNorm.bias']\n",
      "- This IS expected if you are initializing BertForSequenceClassification from the checkpoint of a model trained on another task or with another architecture (e.g. initializing a BertForSequenceClassification model from a BertForPreTraining model).\n",
      "- This IS NOT expected if you are initializing BertForSequenceClassification from the checkpoint of a model that you expect to be exactly identical (initializing a BertForSequenceClassification model from a BertForSequenceClassification model).\n",
      "Some weights of BertForSequenceClassification were not initialized from the model checkpoint at bert-base-uncased and are newly initialized: ['classifier.weight', 'classifier.bias']\n",
      "You should probably TRAIN this model on a down-stream task to be able to use it for predictions and inference.\n",
      "2023-11-23 13:40:23.302 WARNING in 'deeppavlov.core.models.torch_model'['torch_model'] at line 96: Unable to place component TorchTransformersClassifierModel on GPU, since no CUDA GPUs are available. Using CPU.\n"
     ]
    }
   ],
   "source": [
    "from deeppavlov import build_model\n",
    "\n",
    "model = build_model('insults_kaggle_bert', download=True)\n"
   ]
  },
  {
   "cell_type": "code",
   "execution_count": 2,
   "id": "988d45db",
   "metadata": {},
   "outputs": [
    {
     "data": {
      "text/plain": [
       "['Insult', 'Not Insult']"
      ]
     },
     "execution_count": 2,
     "metadata": {},
     "output_type": "execute_result"
    }
   ],
   "source": [
    "model(['You are kind of stupid', 'You are a wonderful person!'])"
   ]
  },
  {
   "cell_type": "code",
   "execution_count": 3,
   "id": "9e6a884b",
   "metadata": {},
   "outputs": [
    {
     "data": {
      "text/plain": [
       "['Insult', 'Not Insult']"
      ]
     },
     "execution_count": 3,
     "metadata": {},
     "output_type": "execute_result"
    }
   ],
   "source": [
    "model(['You are kind of stupid', 'You are a wonderful person!'])\n"
   ]
  },
  {
   "cell_type": "code",
   "execution_count": 4,
   "id": "f743b177",
   "metadata": {},
   "outputs": [
    {
     "name": "stderr",
     "output_type": "stream",
     "text": [
      "C:\\Users\\admin\\AppData\\Local\\Temp\\ipykernel_13040\\2479259942.py:26: SettingWithCopyWarning: \n",
      "A value is trying to be set on a copy of a slice from a DataFrame.\n",
      "Try using .loc[row_indexer,col_indexer] = value instead\n",
      "\n",
      "See the caveats in the documentation: https://pandas.pydata.org/pandas-docs/stable/user_guide/indexing.html#returning-a-view-versus-a-copy\n",
      "  data['clean_text'] = data['text'].apply(clean_text)\n",
      "C:\\Users\\admin\\AppData\\Local\\Temp\\ipykernel_13040\\2479259942.py:28: SettingWithCopyWarning: \n",
      "A value is trying to be set on a copy of a slice from a DataFrame.\n",
      "Try using .loc[row_indexer,col_indexer] = value instead\n",
      "\n",
      "See the caveats in the documentation: https://pandas.pydata.org/pandas-docs/stable/user_guide/indexing.html#returning-a-view-versus-a-copy\n",
      "  data['clean_text_lemmatized'] = data['clean_text'].apply(lemmatize_text)\n",
      "C:\\Users\\admin\\AppData\\Local\\Temp\\ipykernel_13040\\2479259942.py:30: SettingWithCopyWarning: \n",
      "A value is trying to be set on a copy of a slice from a DataFrame\n",
      "\n",
      "See the caveats in the documentation: https://pandas.pydata.org/pandas-docs/stable/user_guide/indexing.html#returning-a-view-versus-a-copy\n",
      "  data.dropna(subset=['clean_text_lemmatized'], inplace=True)\n"
     ]
    }
   ],
   "source": [
    "import re\n",
    "import pandas as pd\n",
    "\n",
    "from sklearn.feature_extraction.text import CountVectorizer\n",
    "from nltk.tokenize import word_tokenize\n",
    "from nltk.stem import WordNetLemmatizer\n",
    "\n",
    "\n",
    "def clean_text(text):\n",
    "    text = re.sub('[%s]' % re.escape(\"\"\"!\"#$%&'()*+,-./:;<=>?@[\\]^_`{|}~\"\"\"), ' ', text)\n",
    "    text = re.sub(r'[^\\x00-\\x7f]', r' ', text)\n",
    "    text = re.sub('\\s+', ' ', text)\n",
    "    text = re.sub(r'[0-9]+', '', text)\n",
    "    return text.lower()\n",
    "\n",
    "def lemmatize_text(text):\n",
    "    lemmatizer = WordNetLemmatizer()\n",
    "    tokens = word_tokenize(text)\n",
    "    lemmatized_text = ' '.join([lemmatizer.lemmatize(token) for token in tokens])\n",
    "    return lemmatized_text\n",
    "\n",
    "data1 = pd.read_csv('toxic_comments.csv')\n",
    "data = data1.head(50)\n",
    "tweets = data['text']\n",
    "\n",
    "data['clean_text'] = data['text'].apply(clean_text)\n",
    "\n",
    "data['clean_text_lemmatized'] = data['clean_text'].apply(lemmatize_text)\n",
    "\n",
    "data.dropna(subset=['clean_text_lemmatized'], inplace=True)\n",
    "\n",
    "\n",
    "vectorizer = CountVectorizer()\n",
    "\n",
    "vectorized_tweets = vectorizer.fit_transform(data['clean_text_lemmatized'])\n",
    "\n",
    "formatted_tweets = data['clean_text_lemmatized'].tolist()"
   ]
  },
  {
   "cell_type": "code",
   "execution_count": null,
   "id": "2731ab96",
   "metadata": {},
   "outputs": [],
   "source": []
  },
  {
   "cell_type": "code",
   "execution_count": 5,
   "id": "227fd891",
   "metadata": {},
   "outputs": [],
   "source": [
    "new_column_data = []\n",
    "for text in formatted_tweets:\n",
    "    new_value = model([text])  \n",
    "    new_column_data.append(new_value)"
   ]
  },
  {
   "cell_type": "code",
   "execution_count": null,
   "id": "84cb6e12",
   "metadata": {},
   "outputs": [],
   "source": []
  },
  {
   "cell_type": "code",
   "execution_count": null,
   "id": "847205a9",
   "metadata": {},
   "outputs": [],
   "source": [
    "\n"
   ]
  },
  {
   "cell_type": "code",
   "execution_count": 6,
   "id": "737f92b6",
   "metadata": {},
   "outputs": [],
   "source": [
    "dataotvet = {\n",
    "    'tweets': tweets,\n",
    "    'otvet': new_column_data\n",
    "}\n"
   ]
  },
  {
   "cell_type": "code",
   "execution_count": 7,
   "id": "e6ca1797",
   "metadata": {},
   "outputs": [
    {
     "name": "stdout",
     "output_type": "stream",
     "text": [
      "                                               tweets           otvet\n",
      "0   Explanation\\nWhy the edits made under my usern...  ['Not Insult']\n",
      "1   D'aww! He matches this background colour I'm s...  ['Not Insult']\n",
      "2   Hey man, I'm really not trying to edit war. It...  ['Not Insult']\n",
      "3   \"\\nMore\\nI can't make any real suggestions on ...  ['Not Insult']\n",
      "4   You, sir, are my hero. Any chance you remember...  ['Not Insult']\n",
      "5   \"\\n\\nCongratulations from me as well, use the ...  ['Not Insult']\n",
      "6        COCKSUCKER BEFORE YOU PISS AROUND ON MY WORK      ['Insult']\n",
      "7   Your vandalism to the Matt Shirvington article...      ['Insult']\n",
      "8   Sorry if the word 'nonsense' was offensive to ...  ['Not Insult']\n",
      "9   alignment on this subject and which are contra...  ['Not Insult']\n",
      "10  \"\\nFair use rationale for Image:Wonju.jpg\\n\\nT...  ['Not Insult']\n",
      "11  bbq \\n\\nbe a man and lets discuss it-maybe ove...  ['Not Insult']\n",
      "12  Hey... what is it..\\n@ | talk .\\nWhat is it......  ['Not Insult']\n",
      "13  Before you start throwing accusations and warn...  ['Not Insult']\n",
      "14  Oh, and the girl above started her arguments w...  ['Not Insult']\n",
      "15  \"\\n\\nJuelz Santanas Age\\n\\nIn 2002, Juelz Sant...  ['Not Insult']\n",
      "16  Bye! \\n\\nDon't look, come or think of comming ...  ['Not Insult']\n",
      "17   REDIRECT Talk:Voydan Pop Georgiev- Chernodrinski  ['Not Insult']\n",
      "18  The Mitsurugi point made no sense - why not ar...  ['Not Insult']\n",
      "19  Don't mean to bother you \\n\\nI see that you're...  ['Not Insult']\n",
      "20  \"\\n\\n Regarding your recent edits \\n\\nOnce aga...  ['Not Insult']\n",
      "21  \"\\nGood to know. About me, yeah, I'm studying ...  ['Not Insult']\n",
      "22  \"\\n\\n Snowflakes are NOT always symmetrical! \\...  ['Not Insult']\n",
      "23  \"\\n\\n The Signpost: 24 September 2012 \\n\\n Rea...  ['Not Insult']\n",
      "24  \"\\n\\nRe-considering 1st paragraph edit?\\nI don...  ['Not Insult']\n",
      "25  Radial symmetry \\n\\nSeveral now extinct lineag...  ['Not Insult']\n",
      "26  There's no need to apologize. A Wikipedia arti...  ['Not Insult']\n",
      "27  Yes, because the mother of the child in the ca...  ['Not Insult']\n",
      "28  \"\\nOk. But it will take a bit of work but I ca...  ['Not Insult']\n",
      "29  \"== A barnstar for you! ==\\n\\n  The Real Life ...  ['Not Insult']\n",
      "30  How could I post before the block expires?  Th...  ['Not Insult']\n",
      "31  Not sure about a heading of 'Fight for Freedom...  ['Not Insult']\n",
      "32  Praise \\n\\nlooked at this article about 6 mont...  ['Not Insult']\n",
      "33  I was able to post the above list so quickly b...  ['Not Insult']\n",
      "34  \"\\nWell, not \"\"before the process\"\" but \"\"befo...  ['Not Insult']\n",
      "35  \"\\n\\nNot at all, you are making a straw man ar...  ['Not Insult']\n",
      "36  \"\\n\\n \"\"Mainland Asia\"\" includes \"\"the lower b...  ['Not Insult']\n",
      "37  pretty much everyone from warren county/surrou...  ['Not Insult']\n",
      "38  Hi Explicit, can you block O Fenian for edit-w...  ['Not Insult']\n",
      "39  Notability of Rurika Kasuga\\nA tag has been pl...  ['Not Insult']\n",
      "40  \"\\n Sure, but the lead must briefly summarize ...  ['Not Insult']\n",
      "41  TFD \\n\\nI think we just eced. I think we respo...  ['Not Insult']\n",
      "42  You are gay or antisemmitian? \\n\\nArchangel WH...      ['Insult']\n",
      "43           FUCK YOUR FILTHY MOTHER IN THE ASS, DRY!      ['Insult']\n",
      "44  I'm Sorry \\n\\nI'm sorry I screwed around with ...  ['Not Insult']\n",
      "45  I don't believe the Lisak criticism present th...  ['Not Insult']\n",
      "46  You had a point, and it's now ammended with ap...  ['Not Insult']\n",
      "47  In other words, you're too lazy to actually po...  ['Not Insult']\n",
      "48  \"\\nAs for your claims of \"\"stalking\"\", that is...  ['Not Insult']\n",
      "49  \"::::Jmabel; in regards to predominant scholar...  ['Not Insult']\n"
     ]
    }
   ],
   "source": [
    "df = pd.DataFrame(dataotvet)\n",
    "file_name = 'otvet.csv'\n",
    "df.to_csv(file_name, index=False)\n",
    "df = pd.read_csv('otvet.csv')\n",
    "\n",
    "\n",
    "print(df)"
   ]
  },
  {
   "cell_type": "code",
   "execution_count": null,
   "id": "2ce9754a",
   "metadata": {},
   "outputs": [],
   "source": []
  },
  {
   "cell_type": "code",
   "execution_count": null,
   "id": "d70a48f9",
   "metadata": {},
   "outputs": [],
   "source": []
  },
  {
   "cell_type": "code",
   "execution_count": null,
   "id": "b0697b67",
   "metadata": {},
   "outputs": [],
   "source": []
  },
  {
   "cell_type": "code",
   "execution_count": null,
   "id": "6fa2d496",
   "metadata": {},
   "outputs": [],
   "source": []
  },
  {
   "cell_type": "code",
   "execution_count": null,
   "id": "918cb24b",
   "metadata": {},
   "outputs": [],
   "source": []
  },
  {
   "cell_type": "code",
   "execution_count": null,
   "id": "fc9d3034",
   "metadata": {},
   "outputs": [],
   "source": []
  },
  {
   "cell_type": "code",
   "execution_count": null,
   "id": "3fef8b9a",
   "metadata": {},
   "outputs": [],
   "source": []
  },
  {
   "cell_type": "code",
   "execution_count": null,
   "id": "a37c5bc1",
   "metadata": {},
   "outputs": [],
   "source": []
  },
  {
   "cell_type": "code",
   "execution_count": null,
   "id": "abe12de1",
   "metadata": {},
   "outputs": [],
   "source": []
  },
  {
   "cell_type": "code",
   "execution_count": null,
   "id": "4ece97c7",
   "metadata": {},
   "outputs": [],
   "source": []
  },
  {
   "cell_type": "code",
   "execution_count": null,
   "id": "1a50782e",
   "metadata": {},
   "outputs": [],
   "source": [
    "\n"
   ]
  },
  {
   "cell_type": "code",
   "execution_count": null,
   "id": "11eb1d00",
   "metadata": {
    "scrolled": true
   },
   "outputs": [],
   "source": []
  },
  {
   "cell_type": "code",
   "execution_count": null,
   "id": "2b153c39",
   "metadata": {},
   "outputs": [],
   "source": []
  },
  {
   "cell_type": "code",
   "execution_count": null,
   "id": "32d808c8",
   "metadata": {},
   "outputs": [],
   "source": []
  },
  {
   "cell_type": "code",
   "execution_count": null,
   "id": "d596dcc4",
   "metadata": {
    "scrolled": true
   },
   "outputs": [],
   "source": []
  },
  {
   "cell_type": "code",
   "execution_count": null,
   "id": "2c9145be",
   "metadata": {},
   "outputs": [],
   "source": []
  },
  {
   "cell_type": "code",
   "execution_count": null,
   "id": "5d4610a7",
   "metadata": {},
   "outputs": [],
   "source": []
  },
  {
   "cell_type": "code",
   "execution_count": null,
   "id": "9f76ce3f",
   "metadata": {},
   "outputs": [],
   "source": [
    "\n"
   ]
  },
  {
   "cell_type": "code",
   "execution_count": null,
   "id": "10671ad9",
   "metadata": {},
   "outputs": [],
   "source": []
  },
  {
   "cell_type": "code",
   "execution_count": null,
   "id": "ac387274",
   "metadata": {},
   "outputs": [],
   "source": []
  },
  {
   "cell_type": "code",
   "execution_count": null,
   "id": "0c3e16bb",
   "metadata": {},
   "outputs": [],
   "source": []
  },
  {
   "cell_type": "code",
   "execution_count": null,
   "id": "ec172153",
   "metadata": {},
   "outputs": [],
   "source": []
  },
  {
   "cell_type": "code",
   "execution_count": null,
   "id": "82265f9c",
   "metadata": {},
   "outputs": [],
   "source": []
  },
  {
   "cell_type": "code",
   "execution_count": null,
   "id": "0e843ad7",
   "metadata": {},
   "outputs": [],
   "source": [
    "\n"
   ]
  },
  {
   "cell_type": "code",
   "execution_count": null,
   "id": "22f9f0d7",
   "metadata": {},
   "outputs": [],
   "source": [
    "\n",
    "\n"
   ]
  },
  {
   "cell_type": "code",
   "execution_count": null,
   "id": "1e4acbce",
   "metadata": {},
   "outputs": [],
   "source": []
  },
  {
   "cell_type": "code",
   "execution_count": null,
   "id": "275a8b7d",
   "metadata": {},
   "outputs": [],
   "source": []
  },
  {
   "cell_type": "code",
   "execution_count": null,
   "id": "282a7387",
   "metadata": {},
   "outputs": [],
   "source": [
    "\n",
    "\n"
   ]
  },
  {
   "cell_type": "code",
   "execution_count": null,
   "id": "b1f19f5b",
   "metadata": {},
   "outputs": [],
   "source": [
    "\n"
   ]
  },
  {
   "cell_type": "code",
   "execution_count": null,
   "id": "e6fb9fc0",
   "metadata": {},
   "outputs": [],
   "source": []
  },
  {
   "cell_type": "code",
   "execution_count": null,
   "id": "ca2c1616",
   "metadata": {},
   "outputs": [],
   "source": [
    "    "
   ]
  },
  {
   "cell_type": "code",
   "execution_count": null,
   "id": "64c0f3ff",
   "metadata": {},
   "outputs": [],
   "source": []
  },
  {
   "cell_type": "code",
   "execution_count": null,
   "id": "500e75a6",
   "metadata": {},
   "outputs": [],
   "source": []
  },
  {
   "cell_type": "code",
   "execution_count": null,
   "id": "5db3727e",
   "metadata": {},
   "outputs": [],
   "source": []
  },
  {
   "cell_type": "code",
   "execution_count": null,
   "id": "576f3308",
   "metadata": {},
   "outputs": [],
   "source": []
  },
  {
   "cell_type": "code",
   "execution_count": null,
   "id": "8538b9ae",
   "metadata": {},
   "outputs": [],
   "source": [
    "                                                                                                                                                                                                       "
   ]
  },
  {
   "cell_type": "code",
   "execution_count": null,
   "id": "188fe94b",
   "metadata": {},
   "outputs": [],
   "source": [
    "\n"
   ]
  },
  {
   "cell_type": "code",
   "execution_count": null,
   "id": "2fc9aee5",
   "metadata": {},
   "outputs": [],
   "source": []
  },
  {
   "cell_type": "code",
   "execution_count": null,
   "id": "1e7f5b7c",
   "metadata": {},
   "outputs": [],
   "source": []
  },
  {
   "cell_type": "code",
   "execution_count": null,
   "id": "195017ec",
   "metadata": {},
   "outputs": [],
   "source": []
  },
  {
   "cell_type": "code",
   "execution_count": null,
   "id": "7578e691",
   "metadata": {},
   "outputs": [],
   "source": []
  },
  {
   "cell_type": "code",
   "execution_count": null,
   "id": "2f27e944",
   "metadata": {},
   "outputs": [],
   "source": []
  },
  {
   "cell_type": "code",
   "execution_count": null,
   "id": "6a35dd61",
   "metadata": {},
   "outputs": [],
   "source": []
  }
 ],
 "metadata": {
  "kernelspec": {
   "display_name": "Python 3 (ipykernel)",
   "language": "python",
   "name": "python3"
  },
  "language_info": {
   "codemirror_mode": {
    "name": "ipython",
    "version": 3
   },
   "file_extension": ".py",
   "mimetype": "text/x-python",
   "name": "python",
   "nbconvert_exporter": "python",
   "pygments_lexer": "ipython3",
   "version": "3.10.13"
  }
 },
 "nbformat": 4,
 "nbformat_minor": 5
}
